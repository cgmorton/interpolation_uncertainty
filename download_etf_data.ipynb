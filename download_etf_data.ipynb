{
 "cells": [
  {
   "cell_type": "code",
   "execution_count": 1,
   "id": "initial_id",
   "metadata": {
    "is_executing": true
   },
   "outputs": [],
   "source": [
    "import csv\n",
    "from datetime import datetime, timedelta\n",
    "import os\n",
    "import pprint\n",
    "\n",
    "import ee\n",
    "import pandas as pd\n",
    "\n",
    "import openet.ptjpl\n",
    "import openet.ssebop\n"
   ]
  },
  {
   "cell_type": "code",
   "execution_count": 2,
   "id": "31e92463d839a565",
   "metadata": {
    "collapsed": false,
    "jupyter": {
     "outputs_hidden": false
    }
   },
   "outputs": [],
   "source": [
    "ee.Initialize(\n",
    "    project='ee-cmorton',\n",
    "    opt_url='https://earthengine-highvolume.googleapis.com'\n",
    ")"
   ]
  },
  {
   "cell_type": "code",
   "execution_count": 3,
   "id": "83a0b7c6-3617-43cf-adc3-1849787b6dc7",
   "metadata": {},
   "outputs": [],
   "source": [
    "et_cell_path = 'et_cell_metadata.csv'\n",
    "# et_cell_path = os.path.join(os.getcwd(), 'et_cell_metadata.csv')\n",
    "\n",
    "etf_ws = os.path.join(os.getcwd(), 'etf')\n",
    "etf_file_prefix = 'etf'\n",
    "\n",
    "years = list(range(1985, 2024))\n",
    "overwrite_flag = False\n"
   ]
  },
  {
   "cell_type": "markdown",
   "id": "e1f42994-5741-4f19-b864-97227dbcb96d",
   "metadata": {},
   "source": [
    "## Read in the list of target grid cells/points to process"
   ]
  },
  {
   "cell_type": "code",
   "execution_count": 4,
   "id": "0869986a-a04a-46ca-ab42-88a4e909a5f1",
   "metadata": {},
   "outputs": [
    {
     "name": "stdout",
     "output_type": "stream",
     "text": [
      "ET cell count: 11\n"
     ]
    }
   ],
   "source": [
    "et_cell_df = pd.read_csv(et_cell_path)\n",
    "print(f'ET cell count: {len(et_cell_df)}')\n"
   ]
  },
  {
   "cell_type": "markdown",
   "id": "bd8308a2-65c8-4210-9d8e-b7e54f680b46",
   "metadata": {},
   "source": [
    "## Extract and save the Landsat scene time series¶"
   ]
  },
  {
   "cell_type": "code",
   "execution_count": 5,
   "id": "7da3e5de-0b67-40c5-9ce3-1c3ef4850121",
   "metadata": {},
   "outputs": [
    {
     "name": "stdout",
     "output_type": "stream",
     "text": [
      "ETf files: 429\n",
      "\n",
      "   0 - Cell 387098\n",
      "   1 - Cell 467476\n",
      "   2 - Cell 473008\n",
      "   3 - Cell 511799\n",
      "   4 - Cell 581084\n",
      "   5 - Cell 605776\n",
      "   6 - Cell 661167\n",
      "   7 - Cell 686149\n",
      "   8 - Cell 688961\n",
      "   9 - Cell 564161\n",
      "  10 - Cell 565566\n",
      "\n",
      "Done\n"
     ]
    }
   ],
   "source": [
    "# We will probably not use all the years, but build all the folder\n",
    "for year in years:\n",
    "    if not os.path.isdir(os.path.join(etf_ws, f'{year}')):\n",
    "        os.makedirs(os.path.join(etf_ws, f'{year}'))\n",
    "\n",
    "etf_files = {\n",
    "    item for year in years\n",
    "    for item in os.listdir(os.path.join(etf_ws, f'{year}')) \n",
    "    if item.endswith('.csv')\n",
    "}\n",
    "print(f'ETf files: {len(etf_files)}\\n')\n",
    "# pprint.pprint(etf_files)\n",
    "\n",
    "\n",
    "for i, et_cell in et_cell_df.iterrows():\n",
    "    cell_id = et_cell[\"GRIDMET_ID\"]\n",
    "    xy = [et_cell['LON'], et_cell['LAT']]\n",
    "    print(f'{i:>4d} - Cell {et_cell[\"GRIDMET_ID\"]}')\n",
    "    \n",
    "    for year in years:\n",
    "        file_name = f'{etf_file_prefix}_{year}_{cell_id}.csv'\n",
    "        file_path = os.path.join(etf_ws, f'{year}', file_name)\n",
    "        if not overwrite_flag and (file_name in etf_files):\n",
    "            continue\n",
    "        #print(f'  {year}')\n",
    "\n",
    "        # Get the data from the collections\n",
    "        model_obj = openet.ptjpl.Collection(\n",
    "            collections=['LANDSAT/LC09/C02/T1_L2', 'LANDSAT/LC08/C02/T1_L2', 'LANDSAT/LE07/C02/T1_L2', 'LANDSAT/LT05/C02/T1_L2'],\n",
    "            model_args={\n",
    "                'et_reference_source': 'projects/openet/assets/reference_et/conus/gridmet/daily/v1', \n",
    "                'et_reference_band': 'eto',\n",
    "                'et_reference_factor': 1,\n",
    "                'et_reference_resample': 'nearest',\n",
    "                # Trying to mimic previous version of PJTPL used for Collection v2.0\n",
    "                'crop_pm_adjust_flag': True,\n",
    "                'crop_pm_adjust_source': 'projects/openet/assets/ptjpl/ancillary/alpha/gridmet_1980-2020_dgs',\n",
    "                'crop_pm_adjust_band': 'pt_eto_ratio',\n",
    "                'crop_type_source': 'projects/openet/assets/crop_type/v2021a',\n",
    "                'crop_type_remap': 'CDL',\n",
    "                'c2_lst_correct': False,\n",
    "            },\n",
    "            start_date=f'{year-1}-11-01',\n",
    "            end_date=f'{year+1}-03-01',\n",
    "            geometry=ee.Geometry.Point(xy),\n",
    "            cloud_cover_max=70,\n",
    "        )\n",
    "        # model_obj = openet.ssebop.Collection(\n",
    "        #     collections=['LANDSAT/LC09/C02/T1_L2', 'LANDSAT/LC08/C02/T1_L2', 'LANDSAT/LE07/C02/T1_L2', 'LANDSAT/LT05/C02/T1_L2'],\n",
    "        #     et_reference_source='projects/openet/assets/reference_et/conus/gridmet/daily/v1', \n",
    "        #     et_reference_band='eto',\n",
    "        #     et_reference_factor=1,\n",
    "        #     et_reference_resample='nearest',\n",
    "        #     et_reference_date_type='daily',\n",
    "        #     start_date=f'{year-1}-11-01',\n",
    "        #     end_date=f'{year+1}-03-01',\n",
    "        #     geometry=ee.Geometry.Point(xy),\n",
    "        #     cloud_cover_max=70,\n",
    "        #     # filter_args={},\n",
    "        # )\n",
    "        scene_info = (\n",
    "            model_obj\n",
    "            .overpass(variables=['et_fraction', 'ndvi'])\n",
    "            .select(['et_fraction', 'ndvi'], ['etf', 'ndvi'])\n",
    "            .getRegion(geometry=ee.Geometry.Point(xy), scale=30, crs='EPSG:4326')\n",
    "            .getInfo()\n",
    "        )\n",
    "        \n",
    "        # Reformat the getInfo output so it can be easily read into a dataframe\n",
    "        scene_dict = {'date': {}, 'etf': {}, 'ndvi': {}, 'landsat': {}}\n",
    "        column_index = {col_name: i for i, col_name in enumerate(scene_info[0])}\n",
    "        for row in scene_info[1:]:\n",
    "            if row[4] is None:\n",
    "                continue\n",
    "            date = datetime.utcfromtimestamp(row[3] / 1000.0).strftime('%Y-%m-%d')\n",
    "            scene_dict['date'][date] = date\n",
    "            scene_dict['etf'][date] = round(row[column_index['etf']], 4)\n",
    "            scene_dict['ndvi'][date] = round(row[column_index['ndvi']], 4)\n",
    "            scene_dict['landsat'][date] = f'Landsat {row[0][-17]}'\n",
    "        \n",
    "        # Build and save the scene dataframe\n",
    "        scene_df = pd.DataFrame.from_dict(scene_dict)\n",
    "        scene_df['date'] = pd.to_datetime(scene_df['date'], format='%Y-%m-%d')\n",
    "        scene_df.sort_index(inplace=True)\n",
    "        scene_df.to_csv(file_path, index=False)\n",
    "\n",
    "        # break\n",
    "\n",
    "print('\\nDone')\n"
   ]
  },
  {
   "cell_type": "code",
   "execution_count": null,
   "id": "08b082f3-2d48-4474-b657-af456bbec84f",
   "metadata": {},
   "outputs": [],
   "source": []
  }
 ],
 "metadata": {
  "kernelspec": {
   "display_name": "Python 3 (ipykernel)",
   "language": "python",
   "name": "python3"
  },
  "language_info": {
   "codemirror_mode": {
    "name": "ipython",
    "version": 3
   },
   "file_extension": ".py",
   "mimetype": "text/x-python",
   "name": "python",
   "nbconvert_exporter": "python",
   "pygments_lexer": "ipython3",
   "version": "3.11.8"
  }
 },
 "nbformat": 4,
 "nbformat_minor": 5
}
