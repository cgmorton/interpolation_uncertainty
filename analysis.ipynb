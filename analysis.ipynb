{
 "cells": [
  {
   "cell_type": "code",
   "execution_count": 1,
   "id": "initial_id",
   "metadata": {
    "is_executing": true
   },
   "outputs": [],
   "source": [
    "import calendar\n",
    "import csv\n",
    "from datetime import datetime, timedelta\n",
    "import itertools\n",
    "import os\n",
    "import pprint\n",
    "\n",
    "import matplotlib.pyplot as plt\n",
    "import matplotlib.dates as mdates\n",
    "#import matplotlib.ticker as ticker\n",
    "import numpy as np\n",
    "import pandas as pd\n",
    "\n",
    "plt.rcParams.update({'font.size': 8})\n"
   ]
  },
  {
   "cell_type": "code",
   "execution_count": 250,
   "id": "83a0b7c6-3617-43cf-adc3-1849787b6dc7",
   "metadata": {},
   "outputs": [
    {
     "name": "stdout",
     "output_type": "stream",
     "text": [
      "[1985, 1986, 1987, 1988, 1989, 1990, 1991, 1992, 1993, 1994, 1995, 1996, 1997, 1998, 2012]\n",
      "[2000, 2001, 2002, 2004, 2005, 2006, 2008, 2009, 2010, 2014, 2015, 2016, 2018, 2019, 2020]\n"
     ]
    }
   ],
   "source": [
    "et_cell_path = 'et_cell_metadata.csv'\n",
    "# et_cell_path = os.path.join(os.getcwd(), 'et_cell_metadata.csv')\n",
    "\n",
    "kc_ws = os.path.join(os.getcwd(), 'kc')\n",
    "eto_ws = os.path.join(os.getcwd(), 'eto')\n",
    "etf_ws = os.path.join(os.getcwd(), 'etf')\n",
    "\n",
    "eto_file_prefix = 'eto'\n",
    "etf_file_prefix = 'etf'\n",
    "\n",
    "interp_days = 32\n",
    "\n",
    "# Don't include 1999 or 2013 because they only have partial 2 Landsat coverage\n",
    "# Don't include 2022 or 2023 for now since the Kc data ends Dec 2022\n",
    "# Not sure if 2012 is really needed in the one Landsat list, but including it to get the SLC-off scenes\n",
    "# For the two Landsat list, started with the even years then added a few to match the one Landsat count\n",
    "one_landsat_years = [1985, 1986, 1987, 1988, 1989, 1990, 1991, 1992, 1993, 1994, 1995, 1996, 1997, 1998, 2012]\n",
    "two_landsat_years = [2000, 2001, 2002, 2004, 2005, 2006, 2008, 2009, 2010, 2014, 2015, 2016, 2018, 2019, 2020]\n",
    "landsat_years = one_landsat_years + two_landsat_years\n",
    "print(one_landsat_years)\n",
    "print(two_landsat_years)\n",
    "\n",
    "summer_months = [6, 7, 8]\n",
    "growsn_months = [4, 5, 6, 7, 8, 9, 10]\n",
    "\n",
    "crop_types = {\n",
    "    3: 'Alfalfa Hay',\n",
    "    4: 'Grass Hay',\n",
    "    7: 'Field Corn',\n",
    "    13: 'Winter Grain',\n",
    "    16: 'Grass Pasture',\n",
    "    19: 'Apples and Cherries',\n",
    "    # 25: 'Grapes, Wine',\n",
    "    42: 'Blue Grass Seed',\n",
    "}\n",
    "crops = [3, 4, 7, 13, 16, 19, 25, 42]\n"
   ]
  },
  {
   "cell_type": "markdown",
   "id": "3d269958-8f11-4819-bafc-be48b2969924",
   "metadata": {},
   "source": [
    "### Read ET cell metadata file"
   ]
  },
  {
   "cell_type": "code",
   "execution_count": 251,
   "id": "aa065c57-952e-4aa6-9c4b-cad388c6de5d",
   "metadata": {},
   "outputs": [
    {
     "name": "stdout",
     "output_type": "stream",
     "text": [
      "\n",
      "  ET cell count: 11\n",
      "    GRIDMET_ID        LAT         LON     ELEV_M   ELEV_FT  FIPS_C STPO  \\\n",
      "0       387098  36.691661 -107.933323  1701.0400  5580.840   35045   NM   \n",
      "1       467476  39.108327 -108.349989  1513.2000  4964.570    8077   CO   \n",
      "2       473008  39.274994 -108.849989  1426.9200  4681.500    8077   CO   \n",
      "3       511799  40.441660 -109.558322  1679.2400  5509.320   49047   UT   \n",
      "4       581084  42.524994 -110.183322  2130.3600  6989.370   56035   WY   \n",
      "5       605776  43.275000 -120.850000  1314.7200  4313.390   41037   OR   \n",
      "6       661167  44.941667 -122.891667    69.1667   226.925   41047   OR   \n",
      "7       686149  45.691667 -121.475000   231.8400   760.630   41027   OR   \n",
      "8       688961  45.775000 -119.808333   179.2000   587.927   41049   OR   \n",
      "9       564161  42.024995 -122.308319  1116.6000  3663.390   41029   OR   \n",
      "10      565566  42.066661 -121.516653  1370.3600  4495.930   41035   OR   \n",
      "\n",
      "    COUNTYNAME CNTYCATEGO   STATENAME      HUC8  \n",
      "0     San Juan     County  New Mexico  14080101  \n",
      "1         Mesa     County    Colorado  14010005  \n",
      "2         Mesa     County    Colorado  14010005  \n",
      "3       Uintah     County        Utah  14060010  \n",
      "4     Sublette     County     Wyoming  14040101  \n",
      "5         Lake     County      Oregon  17120005  \n",
      "6       Marion     County      Oregon  17090009  \n",
      "7   Hood River     County      Oregon  17070105  \n",
      "8       Morrow     County      Oregon  17070101  \n",
      "9      Jackson     County      Oregon  18010206  \n",
      "10     Klamath     County      Oregon  18010204  \n"
     ]
    }
   ],
   "source": [
    "print('')\n",
    "et_cell_df = pd.read_csv(et_cell_path)\n",
    "print(f'  ET cell count: {len(et_cell_df)}')\n",
    "print(et_cell_df)"
   ]
  },
  {
   "cell_type": "markdown",
   "id": "15728eaf-477a-45fc-966e-1a0c4c439b48",
   "metadata": {},
   "source": [
    "## Show ET cell locations"
   ]
  },
  {
   "cell_type": "code",
   "execution_count": 252,
   "id": "5e380536-e1e6-4786-ad0f-40875e20cf86",
   "metadata": {},
   "outputs": [],
   "source": [
    "# import ee\n",
    "# import geemap\n",
    "# ee.Initialize(project='ee-cmorton')\n",
    "# points_coll = ee.FeatureCollection([\n",
    "#     ee.Feature(ee.Geometry.Point(et_cell['LON'], et_cell['LAT']), {'cell_id': et_cell['GRIDMET_ID']})\n",
    "#     for index, et_cell in et_cell_df.iterrows()\n",
    "# ])\n",
    "\n",
    "# huc_coll = ee.FeatureCollection('USGS/WBD/2017/HUC08')\n",
    "# #     .filterBounds(points_coll.geometry().bounds())\n",
    "\n",
    "# Map = geemap.Map()\n",
    "# #Map.add_basemap(\"Esri.WorldImagery\")\n",
    "# #Map.add_basemap(\"OpenTopoMap\")\n",
    "# Map.addLayer(huc_coll, {'color': 'blue'}, 'HUC8', True, 0.25)\n",
    "# Map.addLayer(points_coll, {'color': 'red'}, 'ET Cell Centroids')\n",
    "# Map.centerObject(points_coll)\n",
    "# Map\n"
   ]
  },
  {
   "cell_type": "markdown",
   "id": "1850b94b-1f9f-4d6d-aa47-8446e8280b0b",
   "metadata": {},
   "source": [
    "## Build the list of ET cells and crops to process"
   ]
  },
  {
   "cell_type": "code",
   "execution_count": 254,
   "id": "8d5cc532-39f7-4b57-b84b-1c2a6c8f5e8b",
   "metadata": {},
   "outputs": [
    {
     "name": "stdout",
     "output_type": "stream",
     "text": [
      "387098_crop_03.csv\n",
      "387098_crop_04.csv\n",
      "387098_crop_16.csv\n",
      "467476_crop_03.csv\n",
      "467476_crop_04.csv\n",
      "467476_crop_16.csv\n",
      "467476_crop_19.csv\n",
      "473008_crop_03.csv\n",
      "473008_crop_04.csv\n",
      "473008_crop_07.csv\n",
      "473008_crop_13.csv\n",
      "473008_crop_16.csv\n",
      "511799_crop_03.csv\n",
      "511799_crop_04.csv\n",
      "511799_crop_07.csv\n",
      "511799_crop_16.csv\n",
      "581084_crop_04.csv\n",
      "605776_crop_03.csv\n",
      "661167_crop_42.csv\n",
      "686149_crop_19.csv\n",
      "688961_crop_03.csv\n",
      "564161_crop_04.csv\n",
      "565566_crop_03.csv\n"
     ]
    }
   ],
   "source": [
    "et_cell_crops = []\n",
    "\n",
    "for cell_id, et_cell in et_cell_df.iterrows():\n",
    "    for crop_num, crop_name in crop_types.items():\n",
    "        kc_path = os.path.join(kc_ws, f'{et_cell[\"GRIDMET_ID\"]}_crop_{crop_num:02d}.csv')\n",
    "        if not os.path.isfile(kc_path):\n",
    "            continue\n",
    "        et_cell_crops.append([et_cell, kc_path])\n",
    "\n",
    "# pprint.pprint(et_cell_crops)\n",
    "for et_cell, kc_path in et_cell_crops:\n",
    "    print(kc_path.split('/')[-1])\n"
   ]
  },
  {
   "cell_type": "code",
   "execution_count": null,
   "id": "85915d39-b529-4c55-baba-d16f881353bf",
   "metadata": {},
   "outputs": [],
   "source": []
  },
  {
   "cell_type": "markdown",
   "id": "2225ba6d-d964-4f57-8f24-7ec722519b65",
   "metadata": {},
   "source": [
    "## Functions"
   ]
  },
  {
   "cell_type": "code",
   "execution_count": 255,
   "id": "a13884fe-7f31-402c-a83f-d5f9c9b7741e",
   "metadata": {},
   "outputs": [],
   "source": [
    "def read_daily_eto(file_path, year):\n",
    "    \"\"\"Read in the daily ETo\"\"\"\n",
    "    daily_eto_df = pd.read_csv(file_path)\n",
    "    daily_eto_df.set_index('date', inplace=True)\n",
    "    daily_eto_df.index = pd.to_datetime(daily_eto_df.index, format='%Y-%m-%d')\n",
    "    \n",
    "    return daily_eto_df\n",
    "\n",
    "\n",
    "def read_landsat_scene_etf(file_path, year):\n",
    "    \"\"\"Read in the Landsat scene ETf dataframe to get the Landsat observation dates\"\"\"\n",
    "    scene_etf_df = pd.read_csv(file_path)\n",
    "    scene_etf_df.set_index('date', inplace=True)\n",
    "    scene_etf_df.index = pd.to_datetime(scene_etf_df.index, format='%Y-%m-%d')\n",
    "\n",
    "    # Clamping would be needed if the ETf data was being used and not filled with the Kc\n",
    "    # scene_etf_df['etf'] = scene_etf_df['etf'].clip(0, 1.4)\n",
    "    \n",
    "    return scene_etf_df\n",
    "   \n",
    "\n",
    "def interpolate_daily_etf(scene_etf_df, cell_id, year, interp_days=32):\n",
    "    \"\"\"\"\"\"\n",
    "    \n",
    "    # Build the daily dataframe with missing values that need to be interpolated\n",
    "    interp_daily_etf_df = (\n",
    "        scene_etf_df.drop(columns=['landsat'])\n",
    "        .reindex(pd.date_range(start=f'{year}-01-01', end=f'{year}-12-31', freq='D'), method=None)\n",
    "    )\n",
    "    interp_daily_etf_df['month'] = interp_daily_etf_df.index.month\n",
    "    \n",
    "    # Interpolate the missing daily values\n",
    "    for date in pd.date_range(start=f'{year}-01-01', end=f'{year}-12-31', freq='D'):\n",
    "        # print(date)\n",
    "    \n",
    "        # Assume that on days with values we don't need to interpolate anything\n",
    "        if not scene_etf_df[scene_etf_df.index == date].empty:\n",
    "            continue\n",
    "            \n",
    "        prev_df = scene_etf_df[(scene_etf_df.index >= (date - timedelta(days=interp_days))) & (scene_etf_df.index < date)]\n",
    "        next_df = scene_etf_df[(scene_etf_df.index > date) & (scene_etf_df.index <= (date + timedelta(days=interp_days)))]\n",
    "    \n",
    "        if next_df.empty and prev_df.empty:\n",
    "            # No data before or after the target date\n",
    "            # interp_daily_etf_df.at[date, 'etf'] = pd.nan\n",
    "            pass\n",
    "        elif next_df.empty and not prev_df.empty:\n",
    "            # No data after the target date, so use the closest previous value\n",
    "            # Is it safe to assume the dataframes are sorted by date?\n",
    "            interp_daily_etf_df.at[date, 'etf'] = prev_df.iloc[-1]['etf']\n",
    "        elif prev_df.empty and not next_df.empty:\n",
    "            # No data before the target date, so use the closest next value\n",
    "            interp_daily_etf_df.at[date, 'etf'] = next_df.iloc[0]['etf']\n",
    "        else:\n",
    "            # Data before and after target date, linearly interpolate value\n",
    "            time_ratio = (date - prev_df.index[-1]).days / (next_df.index[0] - prev_df.index[-1]).days\n",
    "            interp_value = (next_df.iloc[0]['etf'] - prev_df.iloc[-1]['etf']) * time_ratio + prev_df.iloc[-1]['etf']\n",
    "            interp_daily_etf_df.at[date, 'etf'] = interp_value\n",
    "\n",
    "    return interp_daily_etf_df\n",
    "\n",
    "\n",
    "def compute_monthly_scene_counts(scene_etf_df, year):\n",
    "    \"\"\"Compute the scene counts per month\"\"\"\n",
    "    \n",
    "    scene_counts_df = scene_etf_df.groupby([scene_etf_df.index.to_period('M')]).agg(scene_count=('etf', 'count'))\n",
    "    scene_counts_df.index = scene_counts_df.index.astype('datetime64[ns]')\n",
    "    \n",
    "    # Is there a way to fill with 0's when you reindex (instead of the manual approach here)?\n",
    "    scene_counts_df = scene_counts_df.reindex(pd.date_range(start=f'{year}-01-01', end=f'{year}-12-31', freq='MS'), method=None)\n",
    "    scene_counts_df[scene_counts_df['scene_count'].isnull()] = 0\n",
    "    scene_counts_df['scene_count'] = scene_counts_df['scene_count'].astype(int)\n",
    "    \n",
    "    # Set the month as the index for joining\n",
    "    scene_counts_df['month'] = scene_counts_df.index.month\n",
    "    scene_counts_df.set_index('month', inplace=True)\n",
    "    \n",
    "    return scene_counts_df\n",
    "\n",
    "\n",
    "def compute_interpolated_monthly_et(interp_daily_etf_df):\n",
    "    \"\"\"\"\"\"\n",
    "    \n",
    "    # Join the interpolated ETf to the daily ETo\n",
    "    interp_daily_df = daily_eto_df.join(interp_daily_etf_df, how='inner')\n",
    "    \n",
    "    # Compute daily ET\n",
    "    interp_daily_df['et'] = interp_daily_df['eto'] * interp_daily_df['etf']\n",
    "    \n",
    "    # Compute monthly aggregations\n",
    "    interp_month_df = (\n",
    "        interp_daily_df.groupby([interp_daily_df.index.to_period('M')])\n",
    "        .agg(et_interp=('et', 'sum'))\n",
    "    )\n",
    "    interp_month_df['month'] = interp_month_df.index.month\n",
    "    interp_month_df.set_index('month', inplace=True)\n",
    "\n",
    "    return interp_month_df\n",
    "\n",
    "\n",
    "def compute_interpolated_daily_counts(interp_daily_etf_df):\n",
    "    # TODO: We probably don't need to compute ET here and could just use ETf\n",
    "    \n",
    "    # Join the interpolated ETf to the daily ETo\n",
    "    interp_daily_df = daily_eto_df.join(interp_daily_etf_df, how='inner')\n",
    "    \n",
    "    # Compute daily ET\n",
    "    interp_daily_df['et'] = interp_daily_df['eto'] * interp_daily_df['etf']\n",
    "    \n",
    "    # Compute the daily image counts for each month\n",
    "    daily_counts_df = (\n",
    "        interp_daily_df.groupby([interp_daily_df.index.to_period('M')])\n",
    "        .agg(daily_count=('et', 'count'))\n",
    "    )\n",
    "    daily_counts_df['month'] = daily_counts_df.index.month\n",
    "    daily_counts_df.set_index('month', inplace=True)\n",
    "    \n",
    "    return daily_counts_df\n",
    "\n",
    "\n",
    "def read_target_daily_kc(kc_path, year):\n",
    "    \"\"\"Get the target Kc curve\"\"\"\n",
    "    \n",
    "    # The first line of the file is the crop type\n",
    "    #   or we might want to get it from the file name\n",
    "    # kc_crop_num = int(kc_path.split('_')[-1])\n",
    "    with open(kc_path) as f:\n",
    "        kc_crop = f.readline()\n",
    "    kc_crop_num = int(kc_crop.split('-')[0].replace('#', '').strip())\n",
    "    kc_crop_name = kc_crop.split('-')[-1].strip()\n",
    "    \n",
    "    # Read in the full Kc time series\n",
    "    kc_df = pd.read_csv(kc_path, skiprows=1)\n",
    "    kc_df.set_index('Date', inplace=True, drop=True)\n",
    "    kc_df.index = pd.to_datetime(kc_df.index, format='%Y-%m-%d')\n",
    "\n",
    "    # Then filter to the target year    \n",
    "    target_daily_kc_df = kc_df.loc[\n",
    "        (kc_df.index >= datetime(year-1, 11, 1)) & (kc_df.index < datetime(year+1, 3, 1)), \n",
    "        ['Kc', 'Kcb']\n",
    "    ]\n",
    "    target_daily_kc_df.rename(columns={\"Kc\": \"kc\", \"Kcb\": \"kcb\"}, inplace=True)\n",
    "    # target_daily_kc_df.set_index('Date', inplace=True)\n",
    "    # target_daily_kc_df.index = pd.to_datetime(target_daily_kc_df.index, format='%Y-%m-%d')\n",
    "    \n",
    "    return target_daily_kc_df\n",
    "\n",
    "\n",
    "def compute_target_month_et(target_daily_kc_df, daily_eto_df, cell_id, year):\n",
    "    \"\"\"Compute the target daily ET\"\"\"\n",
    "    \n",
    "    # Filter to the target year since the extra months are needed for interpolation\n",
    "    target_daily_df = daily_eto_df.join(target_daily_kc_df, how='inner')\n",
    "    target_daily_df['et'] = target_daily_df['eto'] * target_daily_df['kc']\n",
    "    # print(target_daily_df)\n",
    "    \n",
    "    # Compute the monthly aggregations for the target data\n",
    "    target_month_df = target_daily_df.groupby([target_daily_df.index.to_period('M')])\\\n",
    "        .agg(et_target=('et', 'sum'), eto_target=('eto', 'sum'))\n",
    "    target_month_df['eto_year'] = year\n",
    "    \n",
    "    # Convert index back to datetimes with the day\n",
    "    # target_month_df.index = target_month_df.index.astype('datetime64[ns]')\n",
    "    \n",
    "    # Use the month as the index\n",
    "    target_month_df['month'] = target_month_df.index.month\n",
    "    target_month_df.set_index('month', inplace=True)\n",
    "\n",
    "    return target_month_df\n",
    "\n",
    "\n",
    "def compute_days_in_month(year):\n",
    "    return pd.date_range(start=f'{year}-01-01', end=f'{year}-12-31', freq='MS').days_in_month\n"
   ]
  },
  {
   "cell_type": "code",
   "execution_count": null,
   "id": "b22fcaff-b894-469a-9114-887755f44090",
   "metadata": {},
   "outputs": [],
   "source": []
  },
  {
   "cell_type": "markdown",
   "id": "d68f7b53-f64d-4b4d-b972-8b94ff7772ba",
   "metadata": {},
   "source": [
    "## Compute final table"
   ]
  },
  {
   "cell_type": "code",
   "execution_count": 258,
   "id": "ac961cde-e348-4f85-9abf-638e5e3a6b7e",
   "metadata": {},
   "outputs": [
    {
     "name": "stdout",
     "output_type": "stream",
     "text": [
      "ET Cell 387098 - Crop 3 - Alfalfa Hay\n",
      "  /Users/Charles.Morton@dri.edu/Projects/interpolation_assessment/kc/387098_crop_03.csv\n",
      "ET Cell 387098 - Crop 4 - Grass Hay\n",
      "  /Users/Charles.Morton@dri.edu/Projects/interpolation_assessment/kc/387098_crop_04.csv\n",
      "ET Cell 387098 - Crop 16 - Grass Pasture\n",
      "  /Users/Charles.Morton@dri.edu/Projects/interpolation_assessment/kc/387098_crop_16.csv\n",
      "ET Cell 467476 - Crop 3 - Alfalfa Hay\n",
      "  /Users/Charles.Morton@dri.edu/Projects/interpolation_assessment/kc/467476_crop_03.csv\n",
      "ET Cell 467476 - Crop 4 - Grass Hay\n",
      "  /Users/Charles.Morton@dri.edu/Projects/interpolation_assessment/kc/467476_crop_04.csv\n",
      "ET Cell 467476 - Crop 16 - Grass Pasture\n",
      "  /Users/Charles.Morton@dri.edu/Projects/interpolation_assessment/kc/467476_crop_16.csv\n",
      "ET Cell 467476 - Crop 19 - Apples and Cherries\n",
      "  /Users/Charles.Morton@dri.edu/Projects/interpolation_assessment/kc/467476_crop_19.csv\n",
      "ET Cell 473008 - Crop 3 - Alfalfa Hay\n",
      "  /Users/Charles.Morton@dri.edu/Projects/interpolation_assessment/kc/473008_crop_03.csv\n",
      "ET Cell 473008 - Crop 4 - Grass Hay\n",
      "  /Users/Charles.Morton@dri.edu/Projects/interpolation_assessment/kc/473008_crop_04.csv\n",
      "ET Cell 473008 - Crop 7 - Field Corn\n",
      "  /Users/Charles.Morton@dri.edu/Projects/interpolation_assessment/kc/473008_crop_07.csv\n",
      "ET Cell 473008 - Crop 13 - Winter Grain\n",
      "  /Users/Charles.Morton@dri.edu/Projects/interpolation_assessment/kc/473008_crop_13.csv\n",
      "ET Cell 473008 - Crop 16 - Grass Pasture\n",
      "  /Users/Charles.Morton@dri.edu/Projects/interpolation_assessment/kc/473008_crop_16.csv\n",
      "ET Cell 511799 - Crop 3 - Alfalfa Hay\n",
      "  /Users/Charles.Morton@dri.edu/Projects/interpolation_assessment/kc/511799_crop_03.csv\n",
      "ET Cell 511799 - Crop 4 - Grass Hay\n",
      "  /Users/Charles.Morton@dri.edu/Projects/interpolation_assessment/kc/511799_crop_04.csv\n",
      "ET Cell 511799 - Crop 7 - Field Corn\n",
      "  /Users/Charles.Morton@dri.edu/Projects/interpolation_assessment/kc/511799_crop_07.csv\n",
      "ET Cell 511799 - Crop 16 - Grass Pasture\n",
      "  /Users/Charles.Morton@dri.edu/Projects/interpolation_assessment/kc/511799_crop_16.csv\n",
      "ET Cell 581084 - Crop 4 - Grass Hay\n",
      "  /Users/Charles.Morton@dri.edu/Projects/interpolation_assessment/kc/581084_crop_04.csv\n",
      "ET Cell 605776 - Crop 3 - Alfalfa Hay\n",
      "  /Users/Charles.Morton@dri.edu/Projects/interpolation_assessment/kc/605776_crop_03.csv\n",
      "ET Cell 661167 - Crop 42 - Blue Grass Seed\n",
      "  /Users/Charles.Morton@dri.edu/Projects/interpolation_assessment/kc/661167_crop_42.csv\n",
      "ET Cell 686149 - Crop 19 - Apples and Cherries\n",
      "  /Users/Charles.Morton@dri.edu/Projects/interpolation_assessment/kc/686149_crop_19.csv\n",
      "ET Cell 688961 - Crop 3 - Alfalfa Hay\n",
      "  /Users/Charles.Morton@dri.edu/Projects/interpolation_assessment/kc/688961_crop_03.csv\n",
      "ET Cell 564161 - Crop 4 - Grass Hay\n",
      "  /Users/Charles.Morton@dri.edu/Projects/interpolation_assessment/kc/564161_crop_04.csv\n",
      "ET Cell 565566 - Crop 3 - Alfalfa Hay\n",
      "  /Users/Charles.Morton@dri.edu/Projects/interpolation_assessment/kc/565566_crop_03.csv\n",
      "\n",
      "Done\n"
     ]
    }
   ],
   "source": [
    "monthly_list = []\n",
    "summer_list = []\n",
    "growsn_list = []\n",
    "annual_list = []\n",
    "\n",
    "kc_fill = 'kc'\n",
    "# kc_fill = 'kcb'\n",
    "\n",
    "\n",
    "# Iterate through the ET cell and crop combinations\n",
    "for et_cell, kc_path in et_cell_crops:\n",
    "    \n",
    "    cell_id = et_cell['GRIDMET_ID']\n",
    "    \n",
    "    # TODO: Switch to a regex to get the crop number out of the Kc file path\n",
    "    crop_num = int(kc_path.replace('.csv', '').split('_')[-1])\n",
    "    crop_name = crop_types[crop_num]\n",
    "    \n",
    "    print(f'ET Cell {cell_id} - Crop {crop_num} - {crop_name}')\n",
    "    print(f'  {kc_path}')\n",
    "\n",
    "    # For now compute ETo and ETf as a pair\n",
    "    # If we need additional data points we could pair different Landsat and ETo years also\n",
    "    for scene_year, eto_year in [[year, year] for year in landsat_years]:\n",
    "        # print(f'    Landsat Year: {scene_year},  ETo Year: {eto_year}')\n",
    "\n",
    "        eto_path = os.path.join(\n",
    "            eto_ws, f'{eto_year}', f'{eto_file_prefix}_{eto_year}_{cell_id}.csv'\n",
    "        )\n",
    "        etf_path = os.path.join(\n",
    "            etf_ws, f'{scene_year}', f'{etf_file_prefix}_{scene_year}_{cell_id}.csv'\n",
    "        )\n",
    "\n",
    "        scene_etf_df = read_landsat_scene_etf(etf_path, year=scene_year)\n",
    "        #print(scene_etf_df)\n",
    "    \n",
    "        target_daily_kc_df = read_target_daily_kc(kc_path, year=eto_year)\n",
    "        #print(target_daily_kc_df)\n",
    "        #fig, ax0 = plt.subplots(1, 1, figsize=(6, 3), dpi=150)\n",
    "        #target_daily_kc_df['kc'].plot(ax=ax0, color='gray', lw=0.5)\n",
    "        #target_daily_kc_df['kcb'].plot(ax=ax0, color='blue', lw=0.5)\n",
    "\n",
    "        # Fill scene ETf values with the Kc curve values\n",
    "        # TODO: Make this into a separate function once the Kc tables are built\n",
    "        scene_etf_df = scene_etf_df.join(target_daily_kc_df, how='inner')\n",
    "        scene_etf_df['etf'] = scene_etf_df[kc_fill]\n",
    "        scene_etf_df.drop(['kc'], axis=1, inplace=True)\n",
    "        scene_etf_df.drop(['kcb'], axis=1, inplace=True)\n",
    "        \n",
    "        interp_daily_etf_df = interpolate_daily_etf(\n",
    "            scene_etf_df, cell_id=cell_id, year=scene_year, interp_days=interp_days\n",
    "        )\n",
    "        #fig, ax0 = plt.subplots(1, 1, figsize=(6, 3), dpi=150)\n",
    "        #interp_daily_etf_df['etf'].plot(ax=ax0, linestyle='none', marker='.', ms=1, color='blue')\n",
    "        #scene_etf_df['etf'].plot(ax=ax0, linestyle='none', marker='^', ms=3, color='red')\n",
    "        \n",
    "        scene_counts_df = compute_monthly_scene_counts(scene_etf_df, year=scene_year)\n",
    "        #print(scene_counts_df)\n",
    "        \n",
    "        daily_eto_df = read_daily_eto(eto_path, year=eto_year)\n",
    "        #print(daily_eto_df)\n",
    "        \n",
    "        interp_month_df = compute_interpolated_monthly_et(interp_daily_etf_df)\n",
    "        #print(interp_month_df)\n",
    "        \n",
    "        daily_counts_df = compute_interpolated_daily_counts(interp_daily_etf_df)\n",
    "        #print(daily_counts_df)\n",
    "        \n",
    "        target_month_df = compute_target_month_et(\n",
    "            target_daily_kc_df, daily_eto_df, cell_id=cell_id, year=eto_year\n",
    "        )\n",
    "        #print(target_month_df)\n",
    "        \n",
    "        # Link/join the separate dataframes \n",
    "        cell_month_df = interp_month_df.join(target_month_df, how='inner')\n",
    "        cell_month_df = cell_month_df.join(daily_counts_df, how='inner')\n",
    "        cell_month_df = cell_month_df.join(scene_counts_df, how='inner')\n",
    "        cell_month_df['scene_year'] = eto_year\n",
    "        \n",
    "        # Month isn't needed as an index anymore\n",
    "        cell_month_df['month'] = cell_month_df.index\n",
    "        cell_month_df.reset_index(inplace=True, drop=True)\n",
    "        # print(cell_month_df)\n",
    "\n",
    "        \n",
    "        # Compute temporal aggregations before missing months are dropped to get the \"total\" values\n",
    "        # TODO: Is there a better way to get a dataframe back from the .sum() call?\n",
    "        cell_summer_df = (\n",
    "            cell_month_df.loc[cell_month_df['month'].isin([6, 7, 8]), ['et_target', 'eto_target']]\n",
    "            .sum().to_frame().transpose()\n",
    "            .rename(columns={\"eto_target\": \"eto_total\", \"et_target\": \"et_total\"})\n",
    "        )\n",
    "        cell_growsn_df = (\n",
    "            cell_month_df.loc[cell_month_df['month'].isin(growsn_months), ['et_target', 'eto_target']]\n",
    "            .sum().to_frame().transpose()\n",
    "            .rename(columns={\"eto_target\": \"eto_total\", \"et_target\": \"et_total\"})\n",
    "        )\n",
    "        cell_annual_df = (\n",
    "            cell_month_df[[ 'et_target', 'eto_target']]\n",
    "            .sum().to_frame().transpose()\n",
    "            .rename(columns={\"eto_target\": \"eto_total\", \"et_target\": \"et_total\"})\n",
    "        )\n",
    "        \n",
    "        \n",
    "        # Remove months that do not have enough daily data points (missing 4+ days) \n",
    "        # Applying this after temporal aggregations above\n",
    "        # Later on test removing months that are missing any daily data points\n",
    "        # TODO: Check what the OpenET interpolation is doing for this\n",
    "        cell_month_df['days_in_month'] = compute_days_in_month(year=eto_year)\n",
    "        cell_month_df = cell_month_df[cell_month_df['daily_count'] >= 25]\n",
    "        # cell_month_df = cell_month_df[cell_month_df['daily_count'] >= (cell_month_df['days_in_month'] - 3)]\n",
    "\n",
    "        \n",
    "        # Recompute temporal aggregations after missing months are dropped to get the \"target\" sums\n",
    "        columns = ['et_interp', 'et_target', 'eto_target', 'month_count']\n",
    "        cell_month_df['month_count'] = 1\n",
    "        cell_summer_masked_df = cell_month_df.loc[cell_month_df['month'].isin([6, 7, 8]), columns].sum().to_frame().transpose()\n",
    "        cell_growsn_masked_df = cell_month_df.loc[cell_month_df['month'].isin(growsn_months), columns].sum().to_frame().transpose()\n",
    "        cell_annual_masked_df = cell_month_df[columns].sum().to_frame().transpose()\n",
    "        cell_summer_masked_df['month_count'] = cell_summer_masked_df['month_count'].astype(int)\n",
    "        cell_growsn_masked_df['month_count'] = cell_growsn_masked_df['month_count'].astype(int)\n",
    "        cell_annual_masked_df['month_count'] = cell_annual_masked_df['month_count'].astype(int)\n",
    "        cell_month_df.drop(['month_count'], axis=1, inplace=True)\n",
    "\n",
    "        # Add the masked sums to the aggregation dataframes\n",
    "        cell_summer_df = pd.concat([cell_summer_df, cell_summer_masked_df], axis=1)\n",
    "        cell_growsn_df = pd.concat([cell_growsn_df, cell_growsn_masked_df], axis=1)\n",
    "        cell_annual_df = pd.concat([cell_annual_df, cell_annual_masked_df], axis=1)\n",
    "\n",
    "\n",
    "        # Add all the other cell properties\n",
    "        # TODO: Find a better way to add the cell data\n",
    "        cell_month_df['cell_id'] = cell_id\n",
    "        cell_month_df['crop_num'] = crop_num\n",
    "        cell_month_df['crop_name'] = crop_name\n",
    "        cell_month_df['cell_huc'] = et_cell['HUC8']\n",
    "        cell_month_df['cell_lat'] = et_cell['LAT']\n",
    "        cell_month_df['cell_lon'] = et_cell['LON']\n",
    "\n",
    "        # TODO: Come up with a cleaner way of building these\n",
    "        cell_summer_df['scene_year'] = eto_year\n",
    "        cell_summer_df['cell_id'] = cell_id\n",
    "        cell_summer_df['crop_num'] = crop_num\n",
    "        cell_summer_df['crop_name'] = crop_name\n",
    "        cell_summer_df['cell_huc'] = et_cell['HUC8']\n",
    "        cell_summer_df['cell_lat'] = et_cell['LAT']\n",
    "        cell_summer_df['cell_lon'] = et_cell['LON']\n",
    "\n",
    "        cell_growsn_df['scene_year'] = eto_year\n",
    "        cell_growsn_df['cell_id'] = cell_id\n",
    "        cell_growsn_df['crop_num'] = crop_num\n",
    "        cell_growsn_df['crop_name'] = crop_name\n",
    "        cell_growsn_df['cell_huc'] = et_cell['HUC8']\n",
    "        cell_growsn_df['cell_lat'] = et_cell['LAT']\n",
    "        cell_growsn_df['cell_lon'] = et_cell['LON']\n",
    "\n",
    "        cell_annual_df['scene_year'] = eto_year\n",
    "        cell_annual_df['cell_id'] = cell_id\n",
    "        cell_annual_df['crop_num'] = crop_num\n",
    "        cell_annual_df['crop_name'] = crop_name\n",
    "        cell_annual_df['cell_huc'] = et_cell['HUC8']\n",
    "        cell_annual_df['cell_lat'] = et_cell['LAT']\n",
    "        cell_annual_df['cell_lon'] = et_cell['LON']\n",
    "\n",
    "        # print('\\nMonth data')\n",
    "        # print(cell_month_df)\n",
    "        # print('\\nSummer Months Sums')\n",
    "        # print(cell_summer_df)\n",
    "        # print('\\nGrowing Season Months Sums')\n",
    "        # print(cell_growsn_df)\n",
    "        # print('\\nAll Months Sums')\n",
    "        # print(cell_annual_df)\n",
    "\n",
    "        # Save the values for each cell\n",
    "        monthly_list.append(cell_month_df)\n",
    "        summer_list.append(cell_summer_df)\n",
    "        growsn_list.append(cell_growsn_df)\n",
    "        annual_list.append(cell_annual_df)\n",
    "\n",
    "        #break\n",
    "        \n",
    "    #break\n",
    "\n",
    "monthly_df = pd.concat(monthly_list)\n",
    "summer_df = pd.concat(summer_list)\n",
    "growsn_df = pd.concat(growsn_list)\n",
    "annual_df = pd.concat(annual_list)\n",
    "\n",
    "# print(monthly_df.head())\n",
    "\n",
    "print('\\nDone')"
   ]
  },
  {
   "cell_type": "code",
   "execution_count": null,
   "id": "bacfadef-0cc8-4437-94c4-1f414750abe1",
   "metadata": {},
   "outputs": [],
   "source": []
  },
  {
   "cell_type": "markdown",
   "id": "93a4deec-4c98-4828-ba1c-dfff44ee255d",
   "metadata": {},
   "source": [
    "# Compute Statistics"
   ]
  },
  {
   "cell_type": "code",
   "execution_count": 276,
   "id": "e8c48e0e-9c71-401e-8abb-1420d304328f",
   "metadata": {},
   "outputs": [],
   "source": [
    "stats_str_fmt = '{:6s} {:>12s}  {:>12s}'\n",
    "stats_int_fmt = '{:6s} {:>12d}  {:>12d}'\n",
    "stats_flt_fmt = '{:6s} {:>12.6f}  {:>12.6f}'\n",
    "\n",
    "def print_stats(data_a, data_b, band_1='et_target', band_2='et_interp'):\n",
    "    # Print comparison statistics of the for two dataframes\n",
    "    diff_a = data_a[band_1] - data_a[band_2]\n",
    "    diff_b = data_b[band_1] - data_b[band_2]\n",
    "    \n",
    "    # Check if this is the correct calcualtion for computing slope through the origin\n",
    "    slope_a = (data_a[band_1] * data_a[band_2]).sum() / (data_a[band_2] * data_a[band_2]).sum()\n",
    "    slope_b = (data_b[band_1] * data_b[band_2]).sum() / (data_b[band_2] * data_b[band_2]).sum()\n",
    "    r2_a = data_a[[band_1, band_2]].corr()[band_2].values[0]\n",
    "    r2_b = data_b[[band_1, band_2]].corr()[band_2].values[0]\n",
    "    rmse_a = (diff_a ** 2).mean() ** 0.5 \n",
    "    rmse_b = (diff_b ** 2).mean() ** 0.5\n",
    "\n",
    "    print(stats_int_fmt.format('n:', diff_a.count(), diff_b.count()))\n",
    "    print(stats_flt_fmt.format('slope:', slope_a, slope_b))\n",
    "    print(stats_flt_fmt.format('r2:', r2_a, r2_b))\n",
    "    print(stats_flt_fmt.format('rmse:', rmse_a, rmse_b))\n",
    "    print(stats_flt_fmt.format('mae:', diff_a.abs().mean(), diff_b.abs().mean()))\n",
    "    print(stats_flt_fmt.format('mbe:', diff_a.mean(), diff_b.mean()))\n",
    "\n",
    "monthly_two_landsat_df = monthly_df[monthly_df['scene_year'].isin(two_landsat_years)]\n",
    "monthly_one_landsat_df = monthly_df[monthly_df['scene_year'].isin(one_landsat_years)]\n",
    "\n",
    "summer_two_landsat_df = summer_df[summer_df['scene_year'].isin(two_landsat_years)]\n",
    "summer_one_landsat_df = summer_df[summer_df['scene_year'].isin(one_landsat_years)]\n",
    "growsn_two_landsat_df = growsn_df[growsn_df['scene_year'].isin(two_landsat_years)]\n",
    "growsn_one_landsat_df = growsn_df[growsn_df['scene_year'].isin(one_landsat_years)]\n",
    "annual_two_landsat_df = annual_df[annual_df['scene_year'].isin(two_landsat_years)]\n",
    "annual_one_landsat_df = annual_df[annual_df['scene_year'].isin(one_landsat_years)]\n"
   ]
  },
  {
   "cell_type": "markdown",
   "id": "9812dddf-409f-45ff-8675-067f5d6a4064",
   "metadata": {},
   "source": [
    "## Statistics for all monthly data points"
   ]
  },
  {
   "cell_type": "code",
   "execution_count": 277,
   "id": "6b6ad34b-9557-4fb6-9ace-5ee38ea6d814",
   "metadata": {},
   "outputs": [
    {
     "name": "stdout",
     "output_type": "stream",
     "text": [
      "All Data\n",
      "          2 Landsat     1 Landsat\n",
      "n:             3903          3457\n",
      "slope:     1.002557      1.002226\n",
      "r2:        0.991395      0.977622\n",
      "rmse:      8.671639     13.760669\n",
      "mae:       5.742038      8.907141\n",
      "mbe:       1.282735      1.938637\n"
     ]
    }
   ],
   "source": [
    "print('All Data')\n",
    "print(stats_str_fmt.format('', '2 Landsat', '1 Landsat'))\n",
    "print_stats(monthly_two_landsat_df, monthly_one_landsat_df)\n",
    "# two_landsat_df.plot.scatter('et_target', 'et_interp', s=1, alpha=0.5)"
   ]
  },
  {
   "cell_type": "markdown",
   "id": "c104538b-bbe8-4ac6-bac8-f4dcee13338d",
   "metadata": {},
   "source": [
    "## Statistics by scene count in month"
   ]
  },
  {
   "cell_type": "code",
   "execution_count": 278,
   "id": "8500096e-eb1d-4ebd-88dc-c6d1ba1846c1",
   "metadata": {},
   "outputs": [
    {
     "name": "stdout",
     "output_type": "stream",
     "text": [
      "Scene count >= 0\n",
      "\n",
      "          2 Landsat     1 Landsat\n",
      "n:             3903          3457\n",
      "slope:     1.002557      1.002226\n",
      "r2:        0.991395      0.977622\n",
      "rmse:      8.671639     13.760669\n",
      "mae:       5.742038      8.907141\n",
      "mbe:       1.282735      1.938637\n"
     ]
    }
   ],
   "source": [
    "print('Scene count >= 0\\n')\n",
    "print(stats_str_fmt.format('', '2 Landsat', '1 Landsat'))\n",
    "print_stats(\n",
    "    monthly_two_landsat_df[monthly_two_landsat_df['scene_count'] >= 0],\n",
    "    monthly_one_landsat_df[monthly_one_landsat_df['scene_count'] >= 0]\n",
    ")"
   ]
  },
  {
   "cell_type": "code",
   "execution_count": 279,
   "id": "f89215f1-6b23-49bc-9bdd-99ad9832ebc2",
   "metadata": {},
   "outputs": [
    {
     "name": "stdout",
     "output_type": "stream",
     "text": [
      "Scene count >= 1\n",
      "\n",
      "          2 Landsat     1 Landsat\n",
      "n:             3669          3058\n",
      "slope:     1.002223      1.000724\n",
      "r2:        0.991380      0.980396\n",
      "rmse:      8.680792     12.901879\n",
      "mae:       5.768813      8.455374\n",
      "mbe:       1.154035      1.664622\n"
     ]
    }
   ],
   "source": [
    "print('Scene count >= 1\\n')\n",
    "print(stats_str_fmt.format('', '2 Landsat', '1 Landsat'))\n",
    "print_stats(\n",
    "    monthly_two_landsat_df[monthly_two_landsat_df['scene_count'] >= 1],\n",
    "    monthly_one_landsat_df[monthly_one_landsat_df['scene_count'] >= 1]\n",
    ")"
   ]
  },
  {
   "cell_type": "code",
   "execution_count": 280,
   "id": "fcf1e6d7-2a14-44a9-b2b1-d3638b93851a",
   "metadata": {},
   "outputs": [
    {
     "name": "stdout",
     "output_type": "stream",
     "text": [
      "Scene count >= 2\n",
      "\n",
      "          2 Landsat     1 Landsat\n",
      "n:             3131          2052\n",
      "slope:     1.003492      1.004299\n",
      "r2:        0.991927      0.984267\n",
      "rmse:      8.432069     11.451939\n",
      "mae:       5.677367      7.713916\n",
      "mbe:       1.183576      1.716468\n"
     ]
    }
   ],
   "source": [
    "print('Scene count >= 2\\n')\n",
    "print(stats_str_fmt.format('', '2 Landsat', '1 Landsat'))\n",
    "print_stats(\n",
    "    monthly_two_landsat_df[monthly_two_landsat_df['scene_count'] >= 2],\n",
    "    monthly_one_landsat_df[monthly_one_landsat_df['scene_count'] >= 2]\n",
    ")"
   ]
  },
  {
   "cell_type": "code",
   "execution_count": 281,
   "id": "c663245b-41c8-4c8c-a31d-96671c0b4d41",
   "metadata": {},
   "outputs": [
    {
     "name": "stdout",
     "output_type": "stream",
     "text": [
      "Scene count >= 3\n",
      "\n",
      "          2 Landsat     1 Landsat\n",
      "n:             2496           918\n",
      "slope:     1.003069      1.003996\n",
      "r2:        0.992116      0.987396\n",
      "rmse:      8.341381      9.984178\n",
      "mae:       5.620720      6.904197\n",
      "mbe:       1.127301      1.375896\n"
     ]
    }
   ],
   "source": [
    "print('Scene count >= 3\\n')\n",
    "print(stats_str_fmt.format('', '2 Landsat', '1 Landsat'))\n",
    "print_stats(\n",
    "    monthly_two_landsat_df[monthly_two_landsat_df['scene_count'] >= 3],\n",
    "    monthly_one_landsat_df[monthly_one_landsat_df['scene_count'] >= 3]\n",
    ")"
   ]
  },
  {
   "cell_type": "code",
   "execution_count": 282,
   "id": "f26249ae-ef43-48b0-a417-fff2e1477bae",
   "metadata": {},
   "outputs": [
    {
     "name": "stdout",
     "output_type": "stream",
     "text": [
      "\n",
      "Stats - scene count >= 4\n",
      "\n",
      "          2 Landsat     1 Landsat\n",
      "n:             1733           205\n",
      "slope:     1.001892      0.996694\n",
      "r2:        0.992880      0.986561\n",
      "rmse:      7.872635      8.757895\n",
      "mae:       5.377493      6.191969\n",
      "mbe:       1.052586      0.145805\n"
     ]
    }
   ],
   "source": [
    "print('\\nStats - scene count >= 4\\n')\n",
    "print(stats_str_fmt.format('', '2 Landsat', '1 Landsat'))\n",
    "print_stats(\n",
    "    monthly_two_landsat_df[monthly_two_landsat_df['scene_count'] >= 4],\n",
    "    monthly_one_landsat_df[monthly_one_landsat_df['scene_count'] >= 4]\n",
    ")"
   ]
  },
  {
   "cell_type": "code",
   "execution_count": null,
   "id": "e14ffd0b-983f-4010-b937-63914ca717c8",
   "metadata": {},
   "outputs": [],
   "source": []
  },
  {
   "cell_type": "markdown",
   "id": "bfe51930-3472-4a49-bd17-a31e71a81640",
   "metadata": {},
   "source": [
    "## Check each scene count separately"
   ]
  },
  {
   "cell_type": "code",
   "execution_count": 283,
   "id": "217faa3a-1644-4dbd-90f9-081c47771d1a",
   "metadata": {},
   "outputs": [
    {
     "name": "stdout",
     "output_type": "stream",
     "text": [
      "Scene count == 0\n",
      "\n",
      "          2 Landsat     1 Landsat\n",
      "n:              234           399\n",
      "slope:     1.061126      1.028888\n",
      "r2:        0.952746      0.939133\n",
      "rmse:      8.526835     19.100955\n",
      "mae:       5.322210     12.369562\n",
      "mbe:       3.300697      4.038736\n"
     ]
    }
   ],
   "source": [
    "print('Scene count == 0\\n')\n",
    "print(stats_str_fmt.format('', '2 Landsat', '1 Landsat'))\n",
    "print_stats(\n",
    "    monthly_two_landsat_df[monthly_two_landsat_df['scene_count'] == 0],\n",
    "    monthly_one_landsat_df[monthly_one_landsat_df['scene_count'] == 0]\n",
    ")"
   ]
  },
  {
   "cell_type": "code",
   "execution_count": 284,
   "id": "de740041-5306-4121-bb93-74bc2d032119",
   "metadata": {},
   "outputs": [
    {
     "name": "stdout",
     "output_type": "stream",
     "text": [
      "Scene count == 1\n",
      "\n",
      "          2 Landsat     1 Landsat\n",
      "n:              538          1006\n",
      "slope:     0.976752      0.986905\n",
      "r2:        0.976058      0.966002\n",
      "rmse:     10.006343     15.442981\n",
      "mae:       6.301006      9.967771\n",
      "mbe:       0.982115      1.558868\n"
     ]
    }
   ],
   "source": [
    "print('Scene count == 1\\n')\n",
    "print(stats_str_fmt.format('', '2 Landsat', '1 Landsat'))\n",
    "print_stats(\n",
    "    monthly_two_landsat_df[monthly_two_landsat_df['scene_count'] == 1],\n",
    "    monthly_one_landsat_df[monthly_one_landsat_df['scene_count'] == 1]\n",
    ")"
   ]
  },
  {
   "cell_type": "code",
   "execution_count": 285,
   "id": "74b830f4-670c-4d41-8072-020334394726",
   "metadata": {},
   "outputs": [
    {
     "name": "stdout",
     "output_type": "stream",
     "text": [
      "Scene count == 2\n",
      "\n",
      "          2 Landsat     1 Landsat\n",
      "n:              635          1134\n",
      "slope:     1.006815      1.004608\n",
      "r2:        0.988446      0.981389\n",
      "rmse:      8.779464     12.514672\n",
      "mae:       5.900030      8.369402\n",
      "mbe:       1.404775      1.992169\n"
     ]
    }
   ],
   "source": [
    "print('Scene count == 2\\n')\n",
    "print(stats_str_fmt.format('', '2 Landsat', '1 Landsat'))\n",
    "print_stats(\n",
    "    monthly_two_landsat_df[monthly_two_landsat_df['scene_count'] == 2],\n",
    "    monthly_one_landsat_df[monthly_one_landsat_df['scene_count'] == 2]\n",
    ")"
   ]
  },
  {
   "cell_type": "code",
   "execution_count": 286,
   "id": "3d26e2f9-be98-47f5-ae77-33e542607054",
   "metadata": {},
   "outputs": [
    {
     "name": "stdout",
     "output_type": "stream",
     "text": [
      "Scene count == 3\n",
      "\n",
      "          2 Landsat     1 Landsat\n",
      "n:              763           713\n",
      "slope:     1.007202      1.006616\n",
      "r2:        0.989327      0.987329\n",
      "rmse:      9.318857     10.309794\n",
      "mae:       6.173161      7.108975\n",
      "mbe:       1.297000      1.729569\n"
     ]
    }
   ],
   "source": [
    "print('Scene count == 3\\n')\n",
    "print(stats_str_fmt.format('', '2 Landsat', '1 Landsat'))\n",
    "print_stats(\n",
    "    monthly_two_landsat_df[monthly_two_landsat_df['scene_count'] == 3],\n",
    "    monthly_one_landsat_df[monthly_one_landsat_df['scene_count'] == 3]\n",
    ")"
   ]
  },
  {
   "cell_type": "code",
   "execution_count": 287,
   "id": "2f613f05-51ac-48b3-bf60-1182e27d5f4b",
   "metadata": {},
   "outputs": [
    {
     "name": "stdout",
     "output_type": "stream",
     "text": [
      "Scene count >= 4\n",
      "\n",
      "          2 Landsat     1 Landsat\n",
      "n:             1733           205\n",
      "slope:     1.001892      0.996694\n",
      "r2:        0.992880      0.986561\n",
      "rmse:      7.872635      8.757895\n",
      "mae:       5.377493      6.191969\n",
      "mbe:       1.052586      0.145805\n"
     ]
    }
   ],
   "source": [
    "print('Scene count >= 4\\n')\n",
    "print(stats_str_fmt.format('', '2 Landsat', '1 Landsat'))\n",
    "print_stats(\n",
    "    monthly_two_landsat_df[monthly_two_landsat_df['scene_count'] >= 4],\n",
    "    monthly_one_landsat_df[monthly_one_landsat_df['scene_count'] >= 4]\n",
    ")"
   ]
  },
  {
   "cell_type": "code",
   "execution_count": null,
   "id": "64891982-7d91-475d-a465-b0230345e4d7",
   "metadata": {},
   "outputs": [],
   "source": []
  },
  {
   "cell_type": "markdown",
   "id": "d48dbec6-da33-4cf5-b111-4adb16a3d4f3",
   "metadata": {},
   "source": [
    "## Compute the stats for the summer months (individually)"
   ]
  },
  {
   "cell_type": "code",
   "execution_count": 288,
   "id": "b493f548-c759-4e28-9dc2-c48c8a1e66e1",
   "metadata": {},
   "outputs": [
    {
     "name": "stdout",
     "output_type": "stream",
     "text": [
      "Summer months (individually)\n",
      "\n",
      "          2 Landsat     1 Landsat\n",
      "n:             1035          1016\n",
      "slope:     0.999779      0.999384\n",
      "r2:        0.970897      0.910079\n",
      "rmse:     11.429280     19.090292\n",
      "mae:       8.247443     13.282178\n",
      "mbe:       0.767159      1.893579\n"
     ]
    }
   ],
   "source": [
    "print('Summer months (individually)\\n')\n",
    "print(stats_str_fmt.format('', '2 Landsat', '1 Landsat'))\n",
    "print_stats(\n",
    "    monthly_two_landsat_df[monthly_two_landsat_df['month'].isin([6, 7, 8])],\n",
    "    monthly_one_landsat_df[monthly_one_landsat_df['month'].isin([6, 7, 8])]\n",
    ")"
   ]
  },
  {
   "cell_type": "markdown",
   "id": "e89a6004-989b-46f4-aee0-7ed079c74f7c",
   "metadata": {},
   "source": [
    "## Compute stats for the growing season months (individually)"
   ]
  },
  {
   "cell_type": "code",
   "execution_count": 289,
   "id": "0ece7429-4a68-41aa-b381-38a51df5abdb",
   "metadata": {},
   "outputs": [
    {
     "name": "stdout",
     "output_type": "stream",
     "text": [
      "Growing season months (individually)\n",
      "\n",
      "          2 Landsat     1 Landsat\n",
      "n:             2414          2365\n",
      "slope:     1.003036      1.003940\n",
      "r2:        0.983838      0.961019\n",
      "rmse:     10.092026     15.653645\n",
      "mae:       7.074853     10.647948\n",
      "mbe:       1.266080      2.433173\n"
     ]
    }
   ],
   "source": [
    "print('Growing season months (individually)\\n')\n",
    "print(stats_str_fmt.format('', '2 Landsat', '1 Landsat'))\n",
    "print_stats(\n",
    "    monthly_two_landsat_df[monthly_two_landsat_df['month'].isin([4, 5, 6, 7, 8, 9, 10])],\n",
    "    monthly_one_landsat_df[monthly_one_landsat_df['month'].isin([4, 5, 6, 7, 8, 9, 10])]\n",
    ")"
   ]
  },
  {
   "cell_type": "code",
   "execution_count": null,
   "id": "f51c4877-3cd9-429f-8649-338511224f2a",
   "metadata": {},
   "outputs": [],
   "source": []
  },
  {
   "cell_type": "markdown",
   "id": "164bbc1b-8766-4521-83e6-5258793879bd",
   "metadata": {},
   "source": [
    "## Compute the stats for the summer, growing season, and annual totals "
   ]
  },
  {
   "cell_type": "code",
   "execution_count": 290,
   "id": "709cc9f9-d783-4024-bb36-dde6d180d078",
   "metadata": {},
   "outputs": [
    {
     "name": "stdout",
     "output_type": "stream",
     "text": [
      "Summer total ET\n",
      "        2 Landsat   1 Landsat\n",
      "n:              345           345\n",
      "slope:     1.002884      1.007545\n",
      "r2:        0.984892      0.963012\n",
      "rmse:     21.120094     33.482643\n",
      "mae:      16.155975     25.231994\n",
      "mbe:       2.301478      5.576453\n"
     ]
    }
   ],
   "source": [
    "print('Summer total ET')\n",
    "print('       {:>10s}  {:>10s}'.format('2 Landsat', '1 Landsat'))\n",
    "print_stats(summer_two_landsat_df, summer_one_landsat_df)"
   ]
  },
  {
   "cell_type": "code",
   "execution_count": 291,
   "id": "38daca5c-c165-4948-8a83-31a124576b6c",
   "metadata": {},
   "outputs": [
    {
     "name": "stdout",
     "output_type": "stream",
     "text": [
      "Growing season total ET\n",
      "        2 Landsat   1 Landsat\n",
      "n:              345           345\n",
      "slope:     1.009761      1.017526\n",
      "r2:        0.986440      0.972080\n",
      "rmse:     30.104611     47.090567\n",
      "mae:      23.936674     37.399012\n",
      "mbe:       8.858892     16.679575\n"
     ]
    }
   ],
   "source": [
    "print('Growing season total ET')\n",
    "print('       {:>10s}  {:>10s}'.format('2 Landsat', '1 Landsat'))\n",
    "print_stats(growsn_two_landsat_df, growsn_one_landsat_df)"
   ]
  },
  {
   "cell_type": "code",
   "execution_count": 292,
   "id": "0c00a295-8617-4bbf-926e-a59feb530227",
   "metadata": {},
   "outputs": [
    {
     "name": "stdout",
     "output_type": "stream",
     "text": [
      "Annual total ET\n",
      "        2 Landsat   1 Landsat\n",
      "n:              345           345\n",
      "slope:     1.015324      1.019579\n",
      "r2:        0.984008      0.969601\n",
      "rmse:     35.861764     52.120380\n",
      "mae:      28.271379     41.918877\n",
      "mbe:      14.511641     19.425707\n"
     ]
    }
   ],
   "source": [
    "print('Annual total ET')\n",
    "print('       {:>10s}  {:>10s}'.format('2 Landsat', '1 Landsat'))\n",
    "print_stats(annual_two_landsat_df, annual_one_landsat_df)"
   ]
  },
  {
   "cell_type": "code",
   "execution_count": null,
   "id": "a84b4669-f049-412d-893b-08b4ecb5bf1f",
   "metadata": {},
   "outputs": [],
   "source": []
  },
  {
   "cell_type": "markdown",
   "id": "15af4f2b-e390-4231-964d-7f458b9fb608",
   "metadata": {},
   "source": [
    "## Compute the stats for the same time periods, but compare to the total ET computed without missing months"
   ]
  },
  {
   "cell_type": "code",
   "execution_count": 235,
   "id": "975bbd8e-ae0f-4b59-8515-234684cac74a",
   "metadata": {},
   "outputs": [],
   "source": [
    "# print('Summer total ET')\n",
    "# print('       {:>10s}  {:>10s}'.format('2 Landsat', '1 Landsat'))\n",
    "# print_stats(summer_two_landsat_df, summer_one_landsat_df, band_1='et_total', band_2='et_interp')"
   ]
  },
  {
   "cell_type": "code",
   "execution_count": 236,
   "id": "8d096ce3-04a9-48d3-b06f-c2d2e0d250d1",
   "metadata": {},
   "outputs": [],
   "source": [
    "# print('Growing season total ET')\n",
    "# print('       {:>10s}  {:>10s}'.format('2 Landsat', '1 Landsat'))\n",
    "# print_stats(growsn_two_landsat_df, growsn_one_landsat_df, band_1='et_total', band_2='et_interp')"
   ]
  },
  {
   "cell_type": "code",
   "execution_count": 237,
   "id": "5f836df6-f162-4ab4-b344-4fe561898b9e",
   "metadata": {},
   "outputs": [],
   "source": [
    "# print('Annual total ET')\n",
    "# print('       {:>10s}  {:>10s}'.format('2 Landsat', '1 Landsat'))\n",
    "# print_stats(annual_two_landsat_df, annual_one_landsat_df, band_1='et_total', band_2='et_interp')"
   ]
  },
  {
   "cell_type": "code",
   "execution_count": null,
   "id": "6b12496a-bf68-41a5-8595-a53d53c40d50",
   "metadata": {},
   "outputs": [],
   "source": []
  }
 ],
 "metadata": {
  "kernelspec": {
   "display_name": "Python 3 (ipykernel)",
   "language": "python",
   "name": "python3"
  },
  "language_info": {
   "codemirror_mode": {
    "name": "ipython",
    "version": 3
   },
   "file_extension": ".py",
   "mimetype": "text/x-python",
   "name": "python",
   "nbconvert_exporter": "python",
   "pygments_lexer": "ipython3",
   "version": "3.11.8"
  }
 },
 "nbformat": 4,
 "nbformat_minor": 5
}
